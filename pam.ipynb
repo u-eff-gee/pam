{
 "cells": [
  {
   "cell_type": "code",
   "execution_count": 12,
   "id": "5c573bfb-d445-4fe9-8d45-085552198e0d",
   "metadata": {
    "tags": []
   },
   "outputs": [],
   "source": [
    "# This file is part of pam.\n",
    "\n",
    "# pam is free software: you can redistribute it and/or modify\n",
    "# it under the terms of the GNU General Public License as published by\n",
    "# the Free Software Foundation, either version 3 of the License, or\n",
    "# (at your option) any later version.\n",
    "\n",
    "# pam is distributed in the hope that it will be useful,\n",
    "# but WITHOUT ANY WARRANTY; without even the implied warranty of\n",
    "# MERCHANTABILITY or FITNESS FOR A PARTICULAR PURPOSE.  See the\n",
    "# GNU General Public License for more details.\n",
    "\n",
    "# You should have received a copy of the GNU General Public License\n",
    "# along with pam.  If not, see <https://www.gnu.org/licenses/>."
   ]
  },
  {
   "cell_type": "markdown",
   "id": "4e21ca58-5aef-40c9-ab2d-b012b0269ea5",
   "metadata": {
    "jp-MarkdownHeadingCollapsed": true,
    "tags": []
   },
   "source": [
    "# Photon-flux Calibration at HIγS using the (simple version of the) Paddle System\n",
    "\n",
    "This notebook introduces the paddle system and the energy-sensitive detectors at High-Intensity Gamma-Ray Source (HI$\\gamma$S) [1] and shows how the detectors can be used to create a photon-flux calibration.\n",
    "\n",
    "For the propagation of uncertainty, this notebook relies on the \"Propagation of distributions using a Monte Carlo method\" as described in the Guide to the Expression of Uncertainty in Measurement (GUM) [2]."
   ]
  },
  {
   "cell_type": "markdown",
   "id": "e7ca855e-6a74-4b94-b651-83548ef55277",
   "metadata": {},
   "source": [
    "# 1. Introduction & Definitions\n",
    "\n",
    "The precision of cross-section measurements in photonuclear experiments is often limited by the knowledge of the flux of the incoming photon beam. A detailed discussion can be found in the most recent NRF review article by Zilges et al. [3]. It is challenging to find a detection system that \n",
    "\n",
    " * does not interfere with the actual measurement\n",
    " * has a high resolution\n",
    " * has a well-known energy-dependent efficiency\n",
    " * can tolerate the large photon flux on the order of $10^8$-$10^9$ photons per second\n",
    "\n",
    "At the HIγS facility, a system of beam detectors called \"paddles\" has been installed to facilitate relative and absolute photon-flux measurements. A similar system that was used in the past, but was primarily been designed for high-energy measurements, is described in an article by Pywell et al. [4]. The system of Pywell et al. is more complicated than the one described here, but the article gives a nice overview of the demands and the functionality of a plastic-scintillator-based flux-measurement system, and it shows a schematic drawing of the setup.\n",
    "\n",
    "One advantage of using this system compared to available alternatives (see, e.g. Ref. [4], or the more recent Ref. [5]) is the simplicity of the formalism.\n",
    "The most general quantity used here is the area ($A$)-, energy ($E$)-, and time ($t$)-differential number of photons (i.e. the energy-differential photon flux) at the target position in the upstream target room (UTR, w.l.o.g. it is assumed that the experiment takes place there), which will be denoted as \n",
    "\n",
    "$\\frac{\\mathrm{d} N_\\gamma }{ \\mathrm{d} A \\mathrm{d} E \\mathrm{d} t}$ \n",
    "\n",
    "in the text. If a differential is omitted, this means that the energy-differential flux has been integrated over this quantity. For example, an integration over the time would result in:\n",
    "\n",
    "$\\frac{\\mathrm{d} N_\\gamma }{ \\mathrm{d} A \\mathrm{d} E} = \\int \\frac{\\mathrm{d} N_\\gamma }{ \\mathrm{d} A \\mathrm{d} E \\mathrm{d} t} \\mathrm{d} t$.\n",
    "\n",
    "The total number of photons $\\mathcal{N}$ can be obtained from the integral:\n",
    "\n",
    "$\\mathcal{N} = \\int \\int \\int \\frac{\\mathrm{d} N_\\gamma }{ \\mathrm{d} A \\mathrm{d} E \\mathrm{d} t} \\mathrm{d} A \\mathrm{d} E \\mathrm{d} t$.\n",
    "\n",
    "Using the definition of $\\mathcal{N}$, define the probability distribution $n_\\gamma$ as:\n",
    "\n",
    "$\\frac{\\mathrm{d} n_\\gamma }{ \\mathrm{d} A \\mathrm{d} E \\mathrm{d} t} = \\frac{1}{\\mathcal{N}} \\frac{\\mathrm{d} N_\\gamma }{ \\mathrm{d} A \\mathrm{d} E \\mathrm{d} t}$\n",
    "\n",
    "It has the property:\n",
    "\n",
    "$\\int \\int \\int \\frac{\\mathrm{d} n_\\gamma }{ \\mathrm{d} A \\mathrm{d} E \\mathrm{d} t} \\mathrm{d} A \\mathrm{d} E \\mathrm{d} t = 1$."
   ]
  },
  {
   "cell_type": "markdown",
   "id": "24b95396-fe6e-4469-b2c6-e833fb5100e7",
   "metadata": {
    "jp-MarkdownHeadingCollapsed": true,
    "tags": []
   },
   "source": [
    "## 1.1 Detectors\n",
    "\n",
    "The following detectors have been in use for experiments of the 2020-2022 HIγS campaigns (sorted by their position along the beamline from upstream to downstream):\n",
    "\n",
    "- Mirror Paddle (**MPAD**): a plastic scintillator that is located downstream of the east mirror of the HIγS facility where the high-energy photon beam leaves the 'laser resonator'. The MPAD is upstream of the beam attenuators, i.e. it always observes the full photon flux without attenuation or collimation. The MPAD is usually in the optical axis all the time.\n",
    "- Single Paddle (**SPAD**): a plastic scintillator that is located about 1 m downstream of the beam collimator in the collimator room. The SPAD and all following detectors observe the attenuated and collimated photon flux. The SPAD is usually in the optical axis all the time.\n",
    "- Zero-degree detector: a 120% high-purity germanium (HPGe) detector that is located downstream of the experimental setups in the UTR. It can be moved into the optical axis if needed. The zero-degree detector is ideal for measurements of the spectral distribution of the photon beam due to its high energy resolution, but it can also be used for flux measurement. An important limitation for flux measurements is the challenging measurement of its efficiency at high photon energies.\n",
    "- Compton Paddle (**CPAD**): a plastic scintillator that is located right behind the zero-degree detector, but still in the UTR. It observes the radiation that is (predominantly Compton) scattered off a 5.65(1)-mm thick copper target. By scattering the photons before they hit the detector, the designers wanted to reduce the flux through the scintillator to reduce pileup. In addition, Compton scattering at a given angle compresses the spectrum of the incoming photon energies, which means that the CPAD would have to be optimized for a smaller energy range. For example, scattering of photons with energies of 1 MeV to 10 MeV at 45 degrees results in a scattered-photon energy range of 0.6 MeV to 1.5 MeV. The target for the Compton paddle is usually in the optical axis all the time.\n",
    "- MOLLY: a sodium iodide (NaI) detector on the downstream side of the gamma vault. MOLLY is ideal for absolute flux measurements due to its high efficiency. It can be moved into the optical axis if needed.\n",
    "\n",
    "In addition, a system of beam attenuators exists at HIγS, which consists of six copper blocks with well-known dimensions.\n",
    "Via remote-controlled motors, any combination of the six copper block can be inserted into the optical axis, giving a large variety of attenuation factors."
   ]
  },
  {
   "cell_type": "markdown",
   "id": "1fb7fe26-c481-4e51-a39f-4c7a0ec06089",
   "metadata": {},
   "source": [
    "## 1.2 Procedure\n",
    "\n",
    "The paddle detectors can always be used for flux monitoring, i.e. ensuring the stability of the beam during a run at a given energy.\n",
    "They are thin enough to remain on the optical axis all the time without causing a significant attenuation of the beam flux.\n",
    "This implies that their efficiency $\\epsilon$ (number of signals versus number of photons passing through the paddle) is low, typically on the order of $10^{-5}$.\n",
    "\n",
    "If an absolute flux calibration is desired, users are advised to determine the efficiency of the paddles experimentally for each experiment.\n",
    "This is necessary because the the efficiency depends on the exact position of the detectors and the radiation damage, both of which are subject to change.\n",
    "To establish an absolute photon-flux calibration, the MOLLY detector can be used.\n",
    "The advantage of MOLLY is its large efficiency, which can be assumed to be $\\epsilon_\\mathrm{MOLLY} \\approx 100\\%$ for the beam energies of interest. This means that every beam photon hitting the detector can be assumed to result in a single recorded signal.\n",
    "To be able to make the latter assumption, signal pileup in MOLLY must be negligible.\n",
    "At typical values of the photon flux for HIγS experiments, this means that the beam needs to be attenuated while MOLLY is in the optical axis.\n",
    "\n",
    "For the attenuation of the beam, the system of copper attenuators with different thicknesses $\\Delta z$ is used.\n",
    "The combined energy-dependent attenuation due to the copper blocks is given by:\n",
    "\n",
    "$\\frac{\\mathrm{d}\\tilde{N}_\\gamma}{\\mathrm{d} E} \\left[ \\frac{\\mathrm{d} N_\\gamma}{\\mathrm{d} E} \\right]^{-1} = \\exp \\left[ - \\mu_\\mathrm{Cu} \\rho_\\mathrm{Cu} \\left( \\sum_i \\Delta z_i \\right) \\right]$\n",
    "\n",
    "Here, $\\mathrm{d}\\tilde{N}_\\gamma / \\mathrm{d} E$ denotes the photon flux after attenuation by the system, $\\mu_\\mathrm{Cu}$ is the energy-dependent x-ray mass attenuation coefficient as defined by Hubbell and Seltzer [6], and $\\rho_\\mathrm{Cu}$ is the density of copper. \n",
    "For simplicitz, the attenuation coefficient was assumed to be independent of the spatial position (homogenous attenuator, approximately collinear beam) and the time.\n",
    "Therefore, the area- and time differentials were omitted here.\n",
    "\n",
    "Typical attenuator sizes in a calibration run with the MOLLY detector are so large that the count rates of the SPAD and the CPAD will be close to their background rates.\n",
    "Therefore, only the MPAD can be calibrated in such a measurement.\n",
    "The relative count rates of the MPAD, SPAD, and CPAD can be calibrated in another calibration run without attenuation and with MOLLY in its \"out\" position. \n",
    "This information can be used to ensure that the transmission of the beam does not change during the actual runs.\n",
    "For example, if the photon beam became slightly misaligned with the axis, this might not cause a large change of the MPAD rate, but on a 53-m distance to the SPAD, already a small divergence of the beam should have a significant impact on the paddle rates in the UTR."
   ]
  },
  {
   "cell_type": "markdown",
   "id": "6023fe08",
   "metadata": {
    "tags": []
   },
   "source": [
    "# 2. Formalism"
   ]
  },
  {
   "cell_type": "markdown",
   "id": "b1a8a71f-02a9-40e4-994c-c3256974c7ce",
   "metadata": {
    "tags": []
   },
   "source": [
    "## 2.1 Assumptions\n",
    "\n",
    "At the typical precision level of flux-calibration measurements, a few simplifying assumptions can be made:\n",
    "\n",
    " 1. Parallelism of the beam. The photon beam in the experimental areas is assumed to originate from a point-like collision point $z=0$ and propagate through a collimator with a radius $r_\\mathrm{coll}$ centered around $z=z_\\mathrm{coll}$. The current distance of the collimator from the collision point is $z_\\mathrm{coll} = 53~m$, and typical collimator radii are on the order of $r_\\mathrm{coll} = 0.01~m$, which means that the divergence of the beam is on the order of $r_\\mathrm{coll}/z_\\mathrm{coll} \\approx 10^{-4}$. The maximum path-length difference of two photons traveling through the large 8.00(1)-cm attenuator blocks is therefore orders of magnitude lower than the uncertainty of their thickness.\n",
    " 2. No signal pileup. For MOLLY, this can be ensured by using enough attenuation in the calibration measurements. For the paddles, it is recommended to test this experimentally by using different attenuators and photon fluxes.\n",
    " 3. No dead time for the paddle detectors. Reading them out by a dead-time free scaler module usually ensures this.\n",
    " 4. No dead time in background measurements. This only applies for MOLLY and the zero-degree detector, since the paddle detectors are assumed to be dead-time free anyway.\n",
    " 5. No attenuation of the beam along the beam line. Even for the lowest beam energy of HI$\\gamma$S of $E_\\mathrm{beam} = 2 MeV$ (the attenuation coefficient of air decreases monotonously over a wide energy range), the attenuation of the beam along a 70-m long flight path (this is about the distance collision point - MOLLY) in air would be on the order of 0.4% [6].\n",
    " 6. No attenuation of the beam by the SPAD. Assuming the paddle is made of 2 mm of plastic (polyethylene, paddle + tape around it), it attenuates the beam by about 1 % at 2 MeV. The attenuation coefficient of polyethylene also decreases monotonously over the typical energy range (see also point 5).\n",
    " 7. Background subtraction. The background count rate $\\mathrm{d} N_\\mathrm{D,BKG} / \\mathrm{d} t$ of each detector $D$ is determined in a separate measurement.\n",
    " 8. Exact attenuation coefficients. The uncertainty of the attenuation coefficiencts by Hubbell and Seltzer [6] is neglected, because the uncertainty of the thickness of all absorbing parts is assumed to be the dominant contribution.\n",
    " 9. Energy-independent efficiencies. The efficiency $\\epsilon_D$ of each detector is assumed to have only a weak dependence on the energy within the range given by the HIγS beam, i.e. the quantity:\n",
    " \n",
    "$\\int_0^\\infty \\frac{\\mathrm{d} n_\\gamma}{\\mathrm{d}E} \\epsilon_D \\left( E \\right) \\mathrm{d}E = \\epsilon_D$.\n",
    "\n",
    "is usually not included in energy integrals."
   ]
  },
  {
   "cell_type": "markdown",
   "id": "c076028e",
   "metadata": {
    "tags": []
   },
   "source": [
    "## 2.2 Expressions for the Count Rates\n",
    "\n",
    "In the following, expressions for the count rate $\\mathrm{d} N_D / \\mathrm{d} t$ of each detector $D$ are derived."
   ]
  },
  {
   "cell_type": "markdown",
   "id": "1daeda1a-83de-4711-b826-2c94f674b952",
   "metadata": {},
   "source": [
    "### 2.2.1 MPAD\n",
    "\n",
    "The count rate of the most upstream detector, the MPAD, is not affected by the attenuators or any other instrumentation.\n",
    "Therefore, it is always given by:\n",
    "\n",
    "$\\frac{\\mathrm{d} N_\\mathrm{MPAD}}{\\mathrm{d} t} = \\frac{\\mathrm{d} N_\\gamma}{\\mathrm{d} t} \\frac{A_\\mathrm{MPAD}}{A_\\mathrm{coll}} \\epsilon_\\mathrm{MPAD} + \\frac{\\mathrm{d} N_\\mathrm{MPAD,BKG}}{\\mathrm{d} t}$.\n",
    "\n",
    "Here, $\\epsilon_\\mathrm{MPAD}$ denotes the energy-integrated efficiency of the MPAD for the given spectral distribution of the beam. The symbolic factor $A_\\mathrm{MPAD} / A_\\mathrm{coll}$, which will be treated as a single calibration parameter \n",
    "\n",
    "$\\tilde{\\epsilon}_\\mathrm{MPAD} = \\frac{A_\\mathrm{MPAD}}{A_\\mathrm{coll}} \\epsilon_\\mathrm{MPAD}$\n",
    "\n",
    "together with the MPAD efficiency, denotes the ratio of the geometric cross section of the beam at the position of the MPAD and after the collimator. Since $A_\\mathrm{MPAD} > A_\\mathrm{coll}$, the MPAD is always hit by a higher flux than the other detectors."
   ]
  },
  {
   "cell_type": "markdown",
   "id": "689c8339-9b7a-4a1b-8810-2a9d0ac87e90",
   "metadata": {},
   "source": [
    "### 2.2.2 SPAD\n",
    "\n",
    "The count rate of the SPAD -and all following detectors- is affected by the attenuators and the collimator, and therefore given by:\n",
    "\n",
    "$\\frac{\\mathrm{d} N_\\mathrm{SPAD}}{\\mathrm{d} t} = \\int_0^\\infty \\frac{\\mathrm{d} \\tilde{N}_\\gamma}{\\mathrm{d}E \\mathrm{d} t} \\mathrm{d}E \\epsilon_\\mathrm{SPAD}  + \\frac{\\mathrm{d} N_\\mathrm{SPAD,BKG}}{\\mathrm{d} t}$.\n",
    "\n",
    "Since the energy dependence of the attenuation coefficient is not negligible within the spectral width of the HIγS beam, this equation contains an integral over the energy."
   ]
  },
  {
   "cell_type": "markdown",
   "id": "e64ef917-d402-4e19-90f8-f71bd7b7e6aa",
   "metadata": {
    "tags": []
   },
   "source": [
    "### 2.2.3 CPAD\n",
    "\n",
    "In general, the count rate of the CPAD includes a complicated integral over all possible scattering angles by which a photon hitting the target can end up in the scintillator, and all possible beam energies. It is assumed here that the geometrical corrections are energy independent. In this case, they can be taken into account by a correction factor $c_\\mathrm{geo}$ that will be absorbed into the calibration parameter. To be consistent, however, the energy dependence of the solid-angle differential Compton-scattering cross section $\\mathrm{d} \\sigma_\\mathrm{Compton} / \\mathrm{d} \\Omega$ needs to be taken into account explicitly, since it was also decided to take into account the energy dependence of the mass attenuation coefficient, which is dominated by Compton scattering at certain energies.\n",
    "\n",
    "$\\frac{\\mathrm{d} N_\\mathrm{CPAD}}{\\mathrm{d} t} = \\int_0^\\infty \\frac{\\mathrm{d} \\tilde{N}_\\gamma}{\\mathrm{d}E \\mathrm{d} t} \\frac{\\mathrm{d} \\sigma_\\mathrm{Compton}}{\\mathrm{d}\\Omega} \\exp \\left[ -\\mu_\\mathrm{target} \\rho_\\mathrm{target} \\Delta z_\\mathrm{target} \\right] \\mathrm{d}E c_\\mathrm{geo} \\epsilon_\\mathrm{CPAD}  + \\frac{\\mathrm{d} N_\\mathrm{CPAD,BKG}}{\\mathrm{d} t}$.\n",
    "\n",
    "As mentioned above, all other geometrical effects are assumed to be taken into account by $c_\\mathrm{geo}$. Please note that the Compton-scattering cross section is assumed to be integrated over the energies of the incoming photons. The energy of the outgoing photons is fixed by kinematics and the requirement that they be emitted into the solid angle of the CPAD.\n",
    "The Compton paddle is also potentially the first detector to be affected by the attenuation in the target in the UTR. Therefore, a generic attenuation factor has been added. The geometry or the composition of the UTR target may be more complicated than the equation suggests. For example, if the beam cross section area at the target position is 20% larger than the cross section of a homogenous, cylindric target whose main axis is aligned with the optical axis, the attenuation factor would be:\n",
    "\n",
    "$0.2+0.8 \\exp \\left(-\\mu_\\mathrm{target} \\rho_\\mathrm{target} \\Delta z_\\mathrm{target}\\right)$"
   ]
  },
  {
   "cell_type": "markdown",
   "id": "0dc322b7-5b30-4dcf-ae7e-aa4b4fe4ffeb",
   "metadata": {},
   "source": [
    "### 2.2.4 MOLLY\n",
    "\n",
    "Apart from the attenuators and the UTR target, the count rate of MOLLY is significantly affected by the attenuation in the scattering target of the CPAD, which adds another exponential factor to the expression.\n",
    "\n",
    "$\\frac{\\mathrm{d} N_\\mathrm{MOLLY}}{\\mathrm{d} t} = \\left[ \\int_0^\\infty \\frac{\\mathrm{d} \\tilde{N}_\\gamma}{\\mathrm{d} E \\mathrm{d} t} \\mathrm{exp} \\left( - \\mu_\\mathrm{Cu} \\rho_\\mathrm{Cu} \\Delta z_\\mathrm{CPAD} -\\mu_\\mathrm{target} \\rho_\\mathrm{target} \\Delta z_\\mathrm{target} \\right) \\mathrm{d} E \\epsilon_\\mathrm{MOLLY} + \\frac{\\mathrm{d} N_\\mathrm{MOLLY,BKG}}{\\mathrm{d} t} \\right] \\left( 1-\\frac{t_\\mathrm{dead}}{t_\\mathrm{real}} \\right)$\n",
    "\n",
    "Here, $\\Delta z_\\mathrm{CPAD}$ denotes the thickness of the CPAD target. Since the MOLLY detector signals are usually processed and most probably digitized, the expression above also allows for a dead time of the data acquisition system which is expressed as the ratio between the dead time $t_\\mathrm{dead}$ and the real time $t_\\mathrm{real}$."
   ]
  },
  {
   "cell_type": "markdown",
   "id": "1cfe3c7a-3a7e-4eae-9380-fb0c3c572c0f",
   "metadata": {},
   "source": [
    "## 2.3 Expressions for the Calibration\n",
    "\n",
    "At present, the most accurate calibration of the paddle detectors can be achieved in a measurement in which the absolute value of the photon flux is obtained with MOLLY. In the following, the count-rate expressions above are used to derive the formalism that is used in the present code for the calibration of the flux detectors."
   ]
  },
  {
   "cell_type": "markdown",
   "id": "c0269e08-2938-42aa-988f-0e11055b3319",
   "metadata": {
    "tags": []
   },
   "source": [
    "### 2.3.1 MPAD calibration\n",
    "\n",
    "The count rate of MOLLY can be solved for the total number of photons:\n",
    "\n",
    "$\\mathcal{N} = \\frac{\\frac{\\mathrm{d} N_\\mathrm{MOLLY}}{\\mathrm{d} t} \\left( 1-\\frac{t_\\mathrm{dead}}{t_\\mathrm{real}} \\right)^{-1} - \\frac{\\mathrm{d} N_\\mathrm{MOLLY,BKG}}{\\mathrm{d}t}}{\\int_0^\\infty \\frac{\\tilde{n}_\\gamma}{\\mathrm{d} E \\mathrm{d} t} \\exp \\left( - \\mu_\\mathrm{Cu} \\rho_\\mathrm{Cu} \\Delta z_\\mathrm{CPAD} -\\mu_\\mathrm{target} \\rho_\\mathrm{target} \\Delta z_\\mathrm{target} \\right) \\mathrm{d} E \\epsilon_\\mathrm{MOLLY}}$.\n",
    "\n",
    "The count rate of the MPAD is solved for the the product of the efficiency and the cross-section area of the beam. Both of these quantities are unknown, since the spatial extent of the beam at the position of the MPAD is not measured. The result is:\n",
    "\n",
    "$\\tilde{\\epsilon}_\\mathrm{MPAD} = \\frac{\\frac{\\mathrm{d} N_\\mathrm{MPAD}}{\\mathrm{d} t} - \\frac{\\mathrm{d} N_\\mathrm{MPAD, BKG}}{\\mathrm{d} t}}{\\mathcal{N} \\frac{\\mathrm{d} n_\\gamma}{\\mathrm{d} t}}$.\n",
    "\n",
    "Now, insert the total number of photons from the MOLLY measurement to obtain the final result:\n",
    "\n",
    "$\\tilde{\\epsilon}_\\mathrm{MPAD} = \\frac{\\frac{\\mathrm{d} N_\\mathrm{MPAD}}{\\mathrm{d} t} - \\frac{\\mathrm{d} N_\\mathrm{MPAD, BKG}}{\\mathrm{d} t}}{\\frac{\\mathrm{d} N_\\mathrm{MOLLY}}{\\mathrm{d} t} \\left( 1-\\frac{t_\\mathrm{dead}}{t_\\mathrm{real}} \\right)^{-1} - \\frac{\\mathrm{d} N_\\mathrm{MOLLY,BKG}}{\\mathrm{d}t}} \\frac{\\int_0^\\infty \\frac{\\tilde{n}_\\gamma}{\\mathrm{d} E \\mathrm{d} t} \\exp \\left(  - \\mu_\\mathrm{Cu} \\rho_\\mathrm{Cu} \\Delta z_\\mathrm{CPAD} -\\mu_\\mathrm{target} \\rho_\\mathrm{target} \\Delta z_\\mathrm{target} \\right) \\mathrm{d} E}{\\frac{\\mathrm{d} n_\\gamma}{\\mathrm{d} t}} \\epsilon_\\mathrm{MOLLY}$.\n",
    "\n",
    "This quantity is the conversion factor between the MPAD count rate and the rate of photons passing through the experimental setup in the UTR (not necessarily all through the target)."
   ]
  },
  {
   "cell_type": "markdown",
   "id": "ce2a3566-f2ad-4c62-a1e4-8f8a17dd91fa",
   "metadata": {
    "tags": []
   },
   "source": [
    "In principle, all quantities on the right-hand side of the final equation can be measured with the available beam diagnostics \\[(background) rates, dead time, beam energy distribution\\], simulated with high precision (efficiency of MOLLY) or looked up in the literature (attenuation coefficients, densities).\n",
    "This means that the $\\tilde{\\epsilon}_\\mathrm{MPAD}$ can be inferred from a single measurement with a suitable attenuator setting for MOLLY. This will be called an \"end-to-end\" calibration and could be as complex as described in Ref. [7].\n",
    "\n",
    "In practice, however, it is possible to avoid many systematic uncertainties by performing multiple measurements with different combinations of attenuators.\n",
    "Assuming that a background measurement is also available, such a series of experiments yields a set of values\n",
    "\n",
    "$\\left\\{ \\Delta Z_n = \\sum_{i \\in A_n} \\Delta z_i, \\left(\\frac{\\mathrm{d} N_\\mathrm{MPAD}}{\\mathrm{d} t}\\right)_n, \\left(\\frac{\\mathrm{d} N_\\mathrm{MPAD, BKG}}{\\mathrm{d} t}\\right)_n, \\left(\\frac{\\mathrm{d} N_\\mathrm{MOLLY}}{\\mathrm{d} t}\\right)_n, t_{\\mathrm{dead}, n}, t_{\\mathrm{read}, n}, \\left(\\frac{\\mathrm{d} N_\\mathrm{MOLLY, BKG}}{\\mathrm{d} t}\\right)_n \\right\\}$,\n",
    "\n",
    "where $A_n$ is the set of attenuators that was used for the $n$-th run. \n",
    "According to the equation above, the ratio of the background- and dead-time corrected count rates of MOLLY and the MPAD can be assumed (see below) to depend on $\\Delta Z$ like:\n",
    "\n",
    "$\\frac{\\frac{\\mathrm{d} N_\\mathrm{MOLLY}}{\\mathrm{d} t} \\left( 1-\\frac{t_\\mathrm{dead}}{t_\\mathrm{real}} \\right)^{-1} - \\frac{\\mathrm{d} N_\\mathrm{MOLLY,BKG}}{\\mathrm{d}t}}{\\frac{\\mathrm{d} N_\\mathrm{MPAD}}{\\mathrm{d} t} - \\frac{\\mathrm{d} N_\\mathrm{MPAD, BKG}}{\\mathrm{d} t}} = \\underbrace{\\frac{\\epsilon_\\mathrm{MOLLY}}{\\tilde{\\epsilon}_\\mathrm{MPAD}}}_{\\text{offset}} \\exp \\left(- \\underbrace{\\langle \\mu \\rho \\rangle_{n_\\gamma}}_{\\text{slope}} \\Delta Z \\right)$.\n",
    "\n",
    "This is a straight line in a logarithmic plot with the offset\n",
    "\n",
    "$\\frac{\\epsilon_\\mathrm{MOLLY}}{\\tilde{\\epsilon}_\\mathrm{MPAD}}$\n",
    "\n",
    "and the slope\n",
    "\n",
    "$\\langle \\mu \\rho \\rangle_{n_\\gamma}$.\n",
    "\n",
    "The slope is the total attenuation effect due to all elements on the optical axis, denoted as a mean value of the product of the attenuation coefficient and the density.\n",
    "To obtain the expression with the two fit parameters from the general relations above, the approximation\n",
    "\n",
    "$\\int_0^\\infty n_\\gamma \\exp \\left[ -\\mu \\rho \\Delta Z \\right]\\mathrm{d}E \\approx \\exp \\left[ -\\int_0^\\infty n_\\gamma \\mu \\rho \\mathrm{d} E \\Delta Z \\right] = \\exp \\left[ -\\langle \\mu \\rho \\rangle_{n_\\gamma} \\Delta Z \\right]$\n",
    "\n",
    "was made.\n",
    "Using the series expansion of the exponential function, it can be seen that this is equivalent to the statement\n",
    "\n",
    "$\\langle \\left( \\mu \\rho \\right)^n \\rangle \\approx \\langle  \\mu \\rho \\rangle^n ~~~ \\forall ~~~ n \\in \\mathcal{N}$\n",
    "\n",
    "which is not true in general, but often a good approximation for the smoothly energy-dependent attenuation coefficient and the comparably narrow beam-energy spectrum.\n",
    "This will be called a \"black-box\" calibration in the following."
   ]
  },
  {
   "cell_type": "markdown",
   "id": "339f5366-f1f1-47f7-917d-1cf0a63e9256",
   "metadata": {},
   "source": [
    "**TODO**: Calibration of the other paddle detectors"
   ]
  },
  {
   "cell_type": "markdown",
   "id": "a24798ce-d011-4444-9528-88b58b1f8ae0",
   "metadata": {
    "tags": []
   },
   "source": [
    "# 3. References\n",
    "\n",
    "\n",
    "[1] H. R. Weller *et al.*, Prog. Part. Nucl. Phys. **62**, 257-303 (2009) (https://doi.org/10.1016/j.ppnp.2008.07.001)\n",
    "\n",
    "[2] JCGM 101:2008, Evaluation of measurement data - Supplement 1 to the \"Guide to the expression of uncertainty in measurement\" - Propagation of distributions using a Monte Carlo method, First Edition (2008) (https://www.bipm.org/en/committees/jc/jcgm/publications)\n",
    "\n",
    "[3] A. Zilges *et al.*, Prog. Part. Nucl. Phys. **122**, 103903 (2022) (https://doi.org/10.1016/j.ppnp.2021.103903)\n",
    "\n",
    "[4] R. E. Pywell *et al.*, Nucl. Instrum. Meth. A **606**, 517-522 (2009) (https://doi.org/10.1016/j.nima.2009.04.014)\n",
    "\n",
    "[5] G. V. Turturica *et al.*, Nucl. Instrum. Meth. A **921**, 27-32 (2019) (https://doi.org/10.1016/j.nima.2018.12.048). This publication describes the use of a standalone energy-resolved Compton-scattering beam monitor (note the difference to the CPAD introduced in this text, which requires a calibration), a photoactivation reaction, and the same paddle system that is described here. In contrast to the present work, Turturica et al. used the paddle system only for a relative calibration.\n",
    "\n",
    "[6] J. H. Hubbell and S. M. Seltzer, Tables of X-Ray Mass Attenuation Coefficients and Mass Energy-Absorption Coefficients from 1 keV to 20 MeV for Elements Z = 1 to 92 and 48 Additional Substances of Dosimetric Interest, NISTIR 5632 (2004) (https://dx.doi.org/10.18434/T4D01F)\n",
    "\n",
    "[7] C. Sun *et al.*, Nucl. Instrum. Meth. A **605**, 312-317 (2009) (https://doi.org/10.1016/j.nima.2009.03.237)"
   ]
  },
  {
   "cell_type": "markdown",
   "id": "1b1cee37-e48f-41e4-83a6-40037413e48f",
   "metadata": {},
   "source": [
    "# 4. Data"
   ]
  },
  {
   "cell_type": "markdown",
   "id": "143cceff-67ae-4275-8ba0-c333f4a7f1c7",
   "metadata": {},
   "source": [
    "For better overview, experimental data are collected in the self-explanatory `Run` and `Calibration` classes.\n",
    "A calibration consists of a single multiple runs with different attenuator settings."
   ]
  },
  {
   "cell_type": "code",
   "execution_count": 1,
   "id": "f284962d-bc01-4bbc-80ef-0af7b7847d31",
   "metadata": {},
   "outputs": [],
   "source": [
    "from calibration_data import Calibration, Run"
   ]
  },
  {
   "cell_type": "markdown",
   "id": "18d85d58-b2c2-41a3-ac86-f65c0110e666",
   "metadata": {},
   "source": [
    "As stated in the introduction, the propagation of uncertainty relies on the Monte-Carlo propagation of distributions described in Ref. [2].\n",
    "The probability distributions for each quantity are assumed to be given in `scipy.stats` nomenclature."
   ]
  },
  {
   "cell_type": "code",
   "execution_count": 2,
   "id": "cbd71b34-d84e-41c8-8483-232e3decb233",
   "metadata": {},
   "outputs": [],
   "source": [
    "n_random = 1000 # Define the number of random samples used in the Monte Carlo procedure."
   ]
  },
  {
   "cell_type": "markdown",
   "id": "c0b10750-762b-4b50-8f79-1d8c92a8c9f8",
   "metadata": {},
   "source": [
    "## 4.1 Test Data"
   ]
  },
  {
   "cell_type": "code",
   "execution_count": 3,
   "id": "5a373218-b7da-436c-874a-efd963b63f0f",
   "metadata": {},
   "outputs": [],
   "source": [
    "import numpy as np\n",
    "from scipy.stats import poisson, truncnorm"
   ]
  },
  {
   "cell_type": "markdown",
   "id": "93f44ac7-1fd8-46bc-a8f5-49ae452d8ced",
   "metadata": {},
   "source": [
    "These are real data from the flux calibration of an experiment on the isotope $^{73}$Ge.\n",
    "The resulting calibration is not very precise due to systematic uncertainties (see comments in code below), but it illustrates the general procedure.\n",
    "With an isolated data acquisition system that only reads out the paddle system, a much higher relative precision of a few percent for the flux can be reached, as stated in Ref. [4]."
   ]
  },
  {
   "cell_type": "code",
   "execution_count": 4,
   "id": "d0e0feef-3363-4bb9-8443-3f7826bd1459",
   "metadata": {},
   "outputs": [],
   "source": [
    "attenuator_thickness_uncertainty = 0.01 # Uncertainty for each individual copper attenuator in cm, estimated from values like \"8.00 cm\" given on the attenuators. The uncertainty was assumed to be in the last digit."
   ]
  },
  {
   "cell_type": "code",
   "execution_count": 5,
   "id": "88268d60-f16a-4ed3-bb8b-289593b48c50",
   "metadata": {},
   "outputs": [],
   "source": [
    "# Run 106\n",
    "# Replayed this run only for the number of seconds shown below.\n",
    "# Around the middle of this run, one of the CeBr detectors started to experience an unphysically \n",
    "# high rate, which caused an enormous dead time.\n",
    "#\n",
    "# By fitting the 1460-keV background line from 40K in the MOLLY spectra, it was found that the \n",
    "# background level was about a factor of 1.2 higher in runs 131-133 than in run 106.\n",
    "# The cause might be the difference in the position of MOLLY: In the background run, it was behind \n",
    "# the lead wall, while in the beam runs, it was on the optical axis.\n",
    "# Since the shape of the background spectrum looks the same in all runs, I used the count rate in \n",
    "# the 1460-keV line to scale the background counts.\n",
    "#\n",
    "# There also seems to have been a problem with the dead-time readout in general, because the data\n",
    "# acquisition system was reading out an array of 40+ detector channels in addition to the paddle\n",
    "# system. This can be seen from the discrepancies between the background count rates in runs\n",
    "# 131-133.\n",
    "# For scaling the MOLLY background rate, the average of all three runs is used.\n",
    "MPAD_background_counts_73Ge = poisson(13297)\n",
    "background_time_73Ge = truncnorm(0., np.inf, loc=1119., scale=0.5)\n",
    "K40_run_106 = truncnorm(0., np.inf, loc=6.81e4, scale=0.04e4)\n",
    "K40_run_131 = truncnorm(0., np.inf, loc=1.929e4, scale=0.020e4)\n",
    "K40_run_132 = truncnorm(0., np.inf, loc=8.65e3, scale=0.13e3)\n",
    "K40_run_133 = truncnorm(0., np.inf, loc=9.42e3, scale=0.14e3)\n",
    "time_131 = truncnorm(0., np.inf, loc=262, scale=0.5)\n",
    "time_132 = truncnorm(0., np.inf, loc=120, scale=0.5)\n",
    "time_133 = truncnorm(0., np.inf, loc=119, scale=0.5)\n",
    "background_scaling_factor_random = (\n",
    "    (\n",
    "        K40_run_131.rvs(size=n_random)\n",
    "        +K40_run_132.rvs(size=n_random)\n",
    "        +K40_run_133.rvs(size=n_random)\n",
    "    )*background_time_73Ge.rvs(size=n_random)\n",
    "    /(\n",
    "        (\n",
    "            time_131.rvs(size=n_random)\n",
    "            +time_132.rvs(size=n_random)\n",
    "            +time_133.rvs(size=n_random)\n",
    "        )\n",
    "        *K40_run_106.rvs(size=n_random)\n",
    "    )\n",
    ")\n",
    "background_scaling_factor_mean = np.mean(background_scaling_factor_random)\n",
    "background_scaling_factor_std = np.std(background_scaling_factor_random)\n",
    "MOLLY_background_counts_73Ge = truncnorm(\n",
    "    0., np.inf, loc=1134961*background_scaling_factor_mean, \n",
    "    scale=np.sqrt(1134961*background_scaling_factor_mean**2+1134961**2*background_scaling_factor_std)\n",
    ")"
   ]
  },
  {
   "cell_type": "code",
   "execution_count": 6,
   "id": "e5ea9b2c-76de-430d-94ac-6c5341b70485",
   "metadata": {},
   "outputs": [],
   "source": [
    "cal_73Ge_5020_keV = Calibration(\n",
    "    identifier=\"MPAD_73Ge_5.02_MeV\", \n",
    "    runs = [\n",
    "        Run(\n",
    "            identifier=\"131\",\n",
    "            attenuator_dz=truncnorm(0., np.inf, 2.45+4.90+8.00+8.00+8.00+8.00, np.sqrt(6.)*attenuator_thickness_uncertainty),\n",
    "            MPAD_counts=poisson(98398),\n",
    "            time=time_131,\n",
    "            MPAD_background_counts=MPAD_background_counts_73Ge,\n",
    "            background_time=background_time_73Ge,\n",
    "            MOLLY_counts = poisson(583719),\n",
    "            MOLLY_efficiency=1.,\n",
    "            MOLLY_dead_time=0.0045,\n",
    "            MOLLY_background_counts=MOLLY_background_counts_73Ge,\n",
    "            \n",
    "        ),\n",
    "        Run(\n",
    "            identifier=\"132\",\n",
    "            attenuator_dz=truncnorm(0., np.inf, 4.90+8.00+8.00+8.00+8.00, np.sqrt(5.)*attenuator_thickness_uncertainty),\n",
    "            MPAD_counts=poisson(44940),\n",
    "            time=time_132,\n",
    "            MPAD_background_counts=MPAD_background_counts_73Ge,\n",
    "            background_time=background_time_73Ge,\n",
    "            MOLLY_counts = poisson(386748),\n",
    "            MOLLY_efficiency=1.,\n",
    "            MOLLY_dead_time=0.0061,\n",
    "            MOLLY_background_counts=MOLLY_background_counts_73Ge,\n",
    "            \n",
    "        ),\n",
    "        Run(\n",
    "            identifier=\"133\",\n",
    "            attenuator_dz=truncnorm(0., np.inf, 2.45+8.00+8.00+8.00+8.00, np.sqrt(5.)*attenuator_thickness_uncertainty),\n",
    "            MPAD_counts=poisson(44420),\n",
    "            time=time_133,\n",
    "            MPAD_background_counts=MPAD_background_counts_73Ge,\n",
    "            background_time=background_time_73Ge,\n",
    "            MOLLY_counts = poisson(628966),\n",
    "            MOLLY_efficiency=1.,\n",
    "            MOLLY_dead_time=0.0097,\n",
    "            MOLLY_background_counts=MOLLY_background_counts_73Ge,\n",
    "            \n",
    "        ),\n",
    "    ]\n",
    ")"
   ]
  },
  {
   "cell_type": "code",
   "execution_count": 7,
   "id": "f6a45ba9-41e0-4e7a-8e34-166cbf2d393c",
   "metadata": {},
   "outputs": [],
   "source": [
    "calibrations = [\n",
    "    cal_73Ge_5020_keV\n",
    "]"
   ]
  },
  {
   "cell_type": "markdown",
   "id": "acc39564-bfc3-4a3b-b58b-dd69763b8051",
   "metadata": {},
   "source": [
    "By varying the input parameters within their probability distributions, sample the uncertainty of the MPAD efficiency."
   ]
  },
  {
   "cell_type": "code",
   "execution_count": 8,
   "id": "de0c0fde-b1cc-4742-9e65-e241b805c71c",
   "metadata": {},
   "outputs": [],
   "source": [
    "from scipy.optimize import curve_fit"
   ]
  },
  {
   "cell_type": "code",
   "execution_count": 9,
   "id": "ceda9918-2826-4363-b043-e0814dcbfd6b",
   "metadata": {},
   "outputs": [],
   "source": [
    "class BlackBoxCalibration:\n",
    "    \"\"\"Class for Monte Carlo sampling and Fitting experimental calibration-run data\n",
    "    \n",
    "    The class uses scipy.optimize.curve_fit for fitting, which is a least-squares algorithm.\n",
    "    Least squares is exact of the probability distributions of the data points are approximately \n",
    "    normal distributions.\n",
    "    If the statistics in the measurement were good enough (as they should be in a calibration)\n",
    "    measurement, then this approximation is well justified.\n",
    "    \n",
    "    Attributes\n",
    "    ----------\n",
    "    runs: list of Run objects\n",
    "        Run data for a single calibration run (same beam conditions, but different attenuators) \n",
    "        with the MPAD and MOLLY.\n",
    "    \"\"\"\n",
    "    def __init__(self, runs):\n",
    "        \"\"\"Initialization\n",
    "        \n",
    "    Parameters\n",
    "    ----------\n",
    "    runs: list of Run objects\n",
    "        Run data for a single calibration run (same beam conditions, but different attenuators) \n",
    "        with the MPAD and MOLLY.\n",
    "        \n",
    "        \"\"\"\n",
    "        self.runs = runs\n",
    "        \n",
    "    def eval_dist(self, number_or_dist, random=False):\n",
    "        \"\"\"Either evaluates the mean or sample a random value from a given distribution\n",
    "\n",
    "    This function was implemented for quick switching between the deterministic and random mode \n",
    "    of evaluation.\n",
    "    Instead of a scipy.stats.rv_continuous distribution, the function can also accept a single \n",
    "    float and simply return it, i.e. it would act like a delta distribution.\n",
    "\n",
    "    Parameters\n",
    "    ----------\n",
    "    number_or_dist: float or scipy.stats.rv_continuous\n",
    "        Float to pass through or distribution to evaluate.\n",
    "    random: bool\n",
    "        If number_or_dist is a scipy.stats.rv_continuous object, True will return \n",
    "        scipy.stats.rv_continuous.rvs() and False will return scipy.stats.rv_continuous.mean(). \n",
    "        Default: False.\n",
    "\n",
    "    Returns\n",
    "    -------\n",
    "    float\n",
    "        Mean value of the distribution, or a random number sampled from it.\n",
    "        \"\"\"\n",
    "        if isinstance(number_or_dist, (int, float)):\n",
    "            return number_or_dist\n",
    "        return number_or_dist.rvs() if random else number_or_dist.mean()\n",
    "\n",
    "    def MOLLY_MPAD_normalization(self, run, random=False):\n",
    "        \"\"\"Calculate the background-corrected MOLLY rate using the MPAD for normalization\n",
    "\n",
    "    Parameters\n",
    "    ----------\n",
    "    run: Run\n",
    "        Run information\n",
    "    random: bool\n",
    "        Determines whether the mean values of all parameters should be used (False) or random \n",
    "        values should be sampled from their respective probability distributions (True).\n",
    "\n",
    "    Returns\n",
    "    -------\n",
    "    float\n",
    "        Ratio of the background-rate-corrected MOLLY rate and the background-rate-corrected MPAD rate.    \n",
    "        \"\"\"\n",
    "\n",
    "        return (\n",
    "            (\n",
    "                self.eval_dist(run.MOLLY_counts, random)/(\n",
    "                    self.eval_dist(run.time, random)*(1.-self.eval_dist(run.MOLLY_dead_time, random))\n",
    "                )\n",
    "                -self.eval_dist(run.MOLLY_background_counts, random)/self.eval_dist(run.background_time, random)\n",
    "            )\n",
    "            /(\n",
    "                self.eval_dist(run.MOLLY_efficiency, random)\n",
    "                *(\n",
    "                    self.eval_dist(run.MPAD_counts, random)/self.eval_dist(run.time, random)\n",
    "                    -self.eval_dist(run.MPAD_background_counts, random)/self.eval_dist(run.background_time, random)\n",
    "                )\n",
    "            )\n",
    "        )\n",
    "    \n",
    "    def ln_MOLLY_rate_over_MPAD_rate(self, dZ, ln_MOLLY_efficiency_over_MPAD_efficiency, mean_attenuation_coefficient_times_density):\n",
    "        \"\"\"Model for the attenuation dependence of the MOLLY/MPAD rate ratio\n",
    "        \n",
    "    The fit uses the logarithm of the model to turn the fit into a simple linear regression.\n",
    "    \n",
    "    Paramters\n",
    "    ---------\n",
    "    dZ: float\n",
    "        Attenuator thickness in arbitrary length unit.\n",
    "    ln_MOLLY_efficiency_over_MPAD_efficiency: float\n",
    "        Logarithm of the ratio of the efficiencies of MOLLY and the MPAD.\n",
    "    mean_attenuation_coefficient_times_density: float\n",
    "        Product of the attenuation coefficient times the density of the attenuators.\n",
    "        The unit of the product must be the inverse of the length unit used for dZ.\n",
    "        \n",
    "    Returns\n",
    "    -------\n",
    "    float\n",
    "        Ratio of the count rates of MOLLY and the MPAD for the given parameters.\n",
    "        \"\"\"\n",
    "        return ln_MOLLY_efficiency_over_MPAD_efficiency+mean_attenuation_coefficient_times_density*dZ\n",
    "\n",
    "    def fit(self, n_random=100):\n",
    "        \"\"\"Fit the model for the attenuation dependence of the MOLLY/MPAD rate ratio\n",
    "        \n",
    "    The result of the fit will constrain the efficiency of the MPAD and the product of the\n",
    "    averaged attenuation coefficient and the density of the attenuators.\n",
    "    The least-squares fit is performed n_random times using curve_fit without weights.\n",
    "    If the relative uncertainties of the calibration data were significantly different, a weighted\n",
    "    fit should be used.\n",
    "    \n",
    "    Parameters\n",
    "    ----------\n",
    "    n_random: int\n",
    "        Number of random samples to be drawn in the Monte Carlo propagation of uncertainties.\n",
    "    \n",
    "    Returns\n",
    "    -------\n",
    "    dZ: (len(self.runs), n_random) ndarray\n",
    "        Monte Carlo samples for the attenuator thickness in the given units.\n",
    "    molly_vs_mpad: (len(self.runs), n_random) ndarray\n",
    "        Samples for the MOLLY/MPAD rate ratio.\n",
    "    popt: (n_random, 2) ndarray\n",
    "        List of fit parameters for each set of random samples.\n",
    "        The first column contains offsets, while the second column contains the slope..\n",
    "        \"\"\"\n",
    "        molly_vs_mpad = np.array(\n",
    "            [\n",
    "                [self.MOLLY_MPAD_normalization(run, random=True) for n in range(n_random)]\n",
    "                for run in self.runs\n",
    "            ]\n",
    "        )\n",
    "\n",
    "        dZ = np.array(\n",
    "            [\n",
    "                run.attenuator_dz.rvs(size=n_random) for run in self.runs\n",
    "            ]\n",
    "        )\n",
    "\n",
    "        popt = np.array([\n",
    "            curve_fit(self.ln_MOLLY_rate_over_MPAD_rate,\n",
    "                      dZ[:,n], np.log(molly_vs_mpad[:,n]),\n",
    "                     )[0] for n in range(n_random)\n",
    "        ])\n",
    "        \n",
    "        return (dZ, molly_vs_mpad, popt)"
   ]
  },
  {
   "cell_type": "code",
   "execution_count": 10,
   "id": "59989ffc-aac9-4b79-b412-fc9374f6ec97",
   "metadata": {},
   "outputs": [],
   "source": [
    "import matplotlib.pyplot as plt\n",
    "from scipy.interpolate import interp1d\n",
    "from uncertainties import ufloat # For displaying the fit results in a nice form"
   ]
  },
  {
   "cell_type": "code",
   "execution_count": 11,
   "id": "64b53464-f145-4482-a113-f67767ff643e",
   "metadata": {},
   "outputs": [
    {
     "name": "stdout",
     "output_type": "stream",
     "text": [
      "Processing calibration data 'MPAD_73Ge_5.02_MeV' ...\n",
      "Finished processing calibration 'MPAD_73Ge_5.02_MeV'. Exported plot to 'MPAD_73Ge_5.02_MeV.pdf'.\n"
     ]
    },
    {
     "data": {
      "image/png": "[encoded data removed]",
      "text/plain": [
       "<Figure size 360x468 with 2 Axes>"
      ]
     },
     "metadata": {
      "needs_background": "light"
     },
     "output_type": "display_data"
    }
   ],
   "source": [
    "n_random = 1000\n",
    "\n",
    "for calibration in calibrations:\n",
    "    print(\"Processing calibration data '{}' ...\".format(calibration.identifier))\n",
    "    model = BlackBoxCalibration(calibration.runs)\n",
    "    dz, molly_vs_mpad, popt = model.fit(n_random=n_random)\n",
    "\n",
    "    dz_plot = np.linspace(\n",
    "        calibration.runs[0].attenuator_dz.mean()-0.1*(calibration.runs[-1].attenuator_dz.mean()-calibration.runs[0].attenuator_dz.mean()),\n",
    "        calibration.runs[-1].attenuator_dz.mean()+0.1*(calibration.runs[-1].attenuator_dz.mean()-calibration.runs[0].attenuator_dz.mean()),\n",
    "        100\n",
    "    )\n",
    "    fit = [np.exp(model.ln_MOLLY_rate_over_MPAD_rate(dz_plot, *popt[n])) for n in range(n_random)]\n",
    "    fit_mean = np.mean(fit, axis=0)\n",
    "    inverse_fit_mean = 1./fit_mean\n",
    "    fit_mean_inter = interp1d(dz_plot, fit_mean)\n",
    "    fit_std = np.std(fit, axis=0)\n",
    "    fit_std_inter = interp1d(dz_plot, fit_std)\n",
    "\n",
    "    dz_mean = np.mean(dz, axis=1)\n",
    "    fit_mean_inter_plot = fit_mean_inter(dz_mean)\n",
    "    inverse_fit_mean_inter = 1./fit_mean_inter_plot\n",
    "    dz_std = np.std(dz, axis=1)\n",
    "    molly_vs_mpad_mean = np.mean(molly_vs_mpad, axis=1)\n",
    "    molly_vs_mpad_std = np.std(molly_vs_mpad, axis=1)\n",
    "    exp_intercept = np.exp(popt[:,0])\n",
    "    ngamma_vs_mpad = ufloat(np.mean(exp_intercept), np.std(exp_intercept))\n",
    "    attenuation_coefficient_times_density = ufloat(np.mean(popt[:,1]), np.std(popt[:,1]))\n",
    "\n",
    "    fig, ax = plt.subplots(2,1, figsize=(5, 6.5))\n",
    "    plt.subplots_adjust(hspace=0)\n",
    "    ax[0].set_title(calibration.identifier)\n",
    "    ax[0].set_ylabel(\"MOLLY Rate / MPAD Rate\")\n",
    "    ax[0].set_xlim(dz_plot[0], dz_plot[-1])\n",
    "    ax[0].set_xticks([])\n",
    "    ax[0].errorbar(dz_mean, molly_vs_mpad_mean, xerr=dz_std, yerr=molly_vs_mpad_std,\n",
    "                fmt=\"o\", capsize=3, color=\"black\", label=\"Data\")\n",
    "    for n in range(n_random):\n",
    "        ax[0].plot(\n",
    "            dz_plot, fit[n],\n",
    "            color=\"lightgrey\", alpha=0.5, label=None if n > 0 else \"Fits\", zorder=0\n",
    "        )\n",
    "    ax[0].fill_between(dz_plot, -fit_std+fit_mean, fit_std+fit_mean, color=\"orange\", alpha=0.5, zorder=1, label=\"Fits (1$\\sigma$)\")\n",
    "    ax[0].text(\n",
    "        0.3, 0.6,\n",
    "        \"{:eP}\".format(ngamma_vs_mpad)\n",
    "        +\"\\n\"+r\"$\\times$ exp[{:eP} $\\times \\Delta Z$]\".format(attenuation_coefficient_times_density),\n",
    "        horizontalalignment=\"left\", verticalalignment=\"center\", transform=ax[0].transAxes\n",
    "    )\n",
    "    ax[0].legend()\n",
    "\n",
    "    ax[1].set_xlabel(\"Cu Attenuator Thickness $\\Delta Z$ (cm)\")\n",
    "    ax[1].set_ylabel(\"Relative Deviation\\n(Data - Fit) / Fit\")\n",
    "    ax[1].set_xlim(dz_plot[0], dz_plot[-1])\n",
    "    for n in range(n_random):\n",
    "        ax[1].plot(\n",
    "            dz_plot, (fit[n]-fit_mean)/fit_mean,\n",
    "            color=\"lightgrey\", alpha=0.5,\n",
    "            zorder=0\n",
    "        )\n",
    "    ax[1].fill_between(dz_plot, -fit_std*inverse_fit_mean, fit_std*inverse_fit_mean, color=\"orange\", alpha=0.5)\n",
    "    ax[1].errorbar(dz_mean, (molly_vs_mpad_mean-fit_mean_inter(dz_mean))*inverse_fit_mean_inter,\n",
    "                   xerr=dz_std,\n",
    "                   yerr=molly_vs_mpad_std*inverse_fit_mean_inter,\n",
    "                   fmt=\"o\", color=\"black\", zorder=1, capsize=3)\n",
    "    fig.align_ylabels()\n",
    "    plt.tight_layout()\n",
    "    output_file_name = \"{}.pdf\".format(calibration.identifier)\n",
    "    plt.savefig(output_file_name)\n",
    "    \n",
    "    print(\"Finished processing calibration '{}'. Exported plot to '{}'.\".format(calibration.identifier, output_file_name))"
   ]
  },
  {
   "cell_type": "code",
   "execution_count": null,
   "id": "f755d8ef-3c8c-471a-909f-4c4932c8ad33",
   "metadata": {},
   "outputs": [],
   "source": []
  }
 ],
 "metadata": {
  "kernelspec": {
   "display_name": "Python 3 (ipykernel)",
   "language": "python",
   "name": "python3"
  },
  "language_info": {
   "codemirror_mode": {
    "name": "ipython",
    "version": 3
   },
   "file_extension": ".py",
   "mimetype": "text/x-python",
   "name": "python",
   "nbconvert_exporter": "python",
   "pygments_lexer": "ipython3",
   "version": "3.8.10"
  }
 },
 "nbformat": 4,
 "nbformat_minor": 5
}
